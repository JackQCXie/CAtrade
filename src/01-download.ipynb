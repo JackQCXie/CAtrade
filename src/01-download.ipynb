{
 "cells": [
  {
   "cell_type": "markdown",
   "metadata": {},
   "source": [
    "# Canadian trade data\n",
    "\n",
    "This notebook downloads raw trade data from [ISED Canada](https://ised-isde.canada.ca/site/trade-data-online/en)\n",
    "\n",
    "Includes trade balance data by province/trade-partner and [HS2](https://en.wikipedia.org/wiki/Harmonized_System) product categorization.\n",
    "\n"
   ]
  },
  {
   "cell_type": "code",
   "execution_count": 1,
   "metadata": {},
   "outputs": [],
   "source": [
    "# TODO/NTD\n",
    "# figure out re-import/re-export\n",
    "# look into more detailed codes (HS6 is possible)"
   ]
  },
  {
   "cell_type": "code",
   "execution_count": 2,
   "metadata": {},
   "outputs": [],
   "source": [
    "import requests\n",
    "import os\n",
    "from datetime import datetime as dt"
   ]
  },
  {
   "cell_type": "code",
   "execution_count": 3,
   "metadata": {},
   "outputs": [],
   "source": [
    "raw_dir = os.path.abspath('../raw/')"
   ]
  },
  {
   "cell_type": "code",
   "execution_count": null,
   "metadata": {},
   "outputs": [],
   "source": [
    "start, end = 2000, 2025\n",
    "\n",
    "# years\n",
    "years = [str(x) for x in range(2000, 2025)]\n",
    "\n",
    "# product codes (2-digit zero-padded)\n",
    "codes = [str(x).zfill(2) for x in range(1, 100)]\n",
    "\n",
    "# Add sections\n",
    "# rng = range(ord('A'), ord('U')+1)\n",
    "# codes.append([chr(x) for x in rng])\n",
    "\n",
    "# breakdown by province vs trade partner\n",
    "modes = {\n",
    "    'part' : {'naArea': '9999', 'countryList': 'DET'},\n",
    "    'prov' : {'naArea': '9998', 'countryList': 'ALL'},\n",
    "}\n",
    "\n",
    "\n",
    "url = 'https://ised-isde.canada.ca/app/ixb/tdo/report.csv'\n",
    "\n",
    "# request parameters\n",
    "params = {\n",
    "    # 'cssIncludes': '%2Fcss%2Fadd_WET_4-0_Canada_Apps.css',\n",
    "    # 'jsIncludes': 'js%2FsurveyPopup.js',\n",
    "    'grouped': 'INDIVIDUAL',\n",
    "    'searchType': 'BL',\n",
    "    'areaCodes': '',\n",
    "    'toFromCountry': 'CDN',\n",
    "    'reportType': 'TB',\n",
    "    'customYears': '2024',\n",
    "    'periodString': '',\n",
    "    'timePeriod': 'Custom+Years',\n",
    "    'currency': 'CDN',\n",
    "    'lang': '',\n",
    "    'productType': 'HS6',\n",
    "}"
   ]
  },
  {
   "cell_type": "code",
   "execution_count": null,
   "metadata": {},
   "outputs": [],
   "source": [
    "# iterate request parameters\n",
    "n = 0\n",
    "N = len(modes) * len(years) * len(codes)\n",
    "t0 = dt.now()\n",
    "\n",
    "for mode in modes:\n",
    "\n",
    "    for year in years:\n",
    "\n",
    "        for code in codes:\n",
    "\n",
    "            # destination file\n",
    "            dst = os.path.join(raw_dir, f'{mode}_{year}_{code}.csv')\n",
    "            if os.path.exists(dst):\n",
    "                N -= 1\n",
    "                continue\n",
    "\n",
    "            # update parameters\n",
    "            params.update(modes[mode])\n",
    "            params['customYears'] = year\n",
    "            params['hSelectedCodes'] = code\n",
    "\n",
    "            resp = requests.get(url, params=params)\n",
    "\n",
    "            with open(dst, 'wb') as f:\n",
    "                f.write(resp.content)\n",
    "\n",
    "            # update message\n",
    "            n += 1\n",
    "            t1 = dt.now()\n",
    "            delta = t1 - t0\n",
    "            avg = delta / n\n",
    "            eta = avg * (N-n)\n",
    "\n",
    "            print(f'[{n} of {N}]')\n",
    "            print(f'status: {resp.status_code} | saved: {dst}')\n",
    "            print(f'time: {t1} | delta: {delta} | eta: {eta}')"
   ]
  },
  {
   "cell_type": "code",
   "execution_count": null,
   "metadata": {},
   "outputs": [],
   "source": [
    "params.update(modes[mode])\n",
    "params['customYears'] = year\n",
    "params['hSelectedCodes'] = 10000    1\n",
    "\n",
    "resp = requests.get(url, params=params)"
   ]
  },
  {
   "cell_type": "code",
   "execution_count": 10,
   "metadata": {},
   "outputs": [
    {
     "data": {
      "text/plain": [
       "'https://ised-isde.canada.ca/app/ixb/tdo/report.csv?cssIncludes=%252Fcss%252Fadd_WET_4-0_Canada_Apps.css&jsIncludes=js%252FsurveyPopup.js&grouped=INDIVIDUAL&searchType=BL&areaCodes=&toFromCountry=CDN&reportType=TB&customYears=2024&periodString=&timePeriod=Custom%2BYears&currency=CDN&lang=&productType=HS6&naArea=9998&countryList=ALL&hSelectedCodes=99'"
      ]
     },
     "execution_count": 10,
     "metadata": {},
     "output_type": "execute_result"
    }
   ],
   "source": [
    "resp.url"
   ]
  },
  {
   "cell_type": "code",
   "execution_count": 6,
   "metadata": {},
   "outputs": [
    {
     "name": "stdout",
     "output_type": "stream",
     "text": [
      "-- Complete --\n"
     ]
    }
   ],
   "source": [
    "print('-- Complete --')"
   ]
  },
  {
   "cell_type": "code",
   "execution_count": 27,
   "metadata": {},
   "outputs": [
    {
     "data": {
      "text/plain": [
       "{'cssIncludes': '%2Fcss%2Fadd_WET_4-0_Canada_Apps.css',\n",
       " 'jsIncludes': 'js%2FsurveyPopup.js',\n",
       " 'grouped': 'INDIVIDUAL',\n",
       " 'searchType': 'BL',\n",
       " 'areaCodes': '',\n",
       " 'naArea': 'P48',\n",
       " 'countryList': 'DET',\n",
       " 'toFromCountry': 'CDN',\n",
       " 'reportType': 'TB',\n",
       " 'customYears': '2024',\n",
       " 'periodString': '',\n",
       " 'timePeriod': '%7CCustom+Years',\n",
       " 'currency': 'CDN',\n",
       " 'lang': '',\n",
       " 'productType': 'HS6',\n",
       " 'hSelectedCodes': '%7C270710'}"
      ]
     },
     "execution_count": 27,
     "metadata": {},
     "output_type": "execute_result"
    }
   ],
   "source": [
    "# parse url parameters\n",
    "link = 'https://ised-isde.canada.ca/app/ixb/tdo/runRpt.html?cssIncludes=%2Fcss%2Fcommon.css&cssIncludes=%2Fcss%2Fadd_WET_4-0_Canada_Apps.css&jsIncludes=js%2Futils.js&jsIncludes=js%2FcodeValidation.js&jsIncludes=js%2FdropdownFiltering.js&jsIncludes=js%2FcriteriaFormCodeSearch.js&jsIncludes=js%2FcriteriaFormCountryRegionState.js&jsIncludes=js%2FchangeCriteria.js&jsIncludes=js%2FselectedCodeDescriptions.js&jsIncludes=js%2Fsiteimprove.js&jsIncludes=js%2FgoogleTagManager.js&jsIncludes=js%2FsurveyPopup.js&grouped=INDIVIDUAL&searchType=BL&areaCodes=&naArea=P48&countryList=DET&toFromCountry=CDN&reportType=TB&customYears=2024&periodString=&timePeriod=%7CCustom+Years&currency=CDN&lang=&productType=HS6&hSelectedCodes=%7C270710'\n",
    "header, params = link.split('?')\n",
    "params = params.split('&')\n",
    "params = [p.split('=') for p in params]\n",
    "params = {k:v for k, v in params}\n",
    "params"
   ]
  },
  {
   "cell_type": "code",
   "execution_count": 28,
   "metadata": {},
   "outputs": [
    {
     "data": {
      "text/plain": [
       "'https://ised-isde.canada.ca/app/ixb/tdo/report.csv?grouped=INDIVIDUAL&searchType=BL&areaCodes=&naArea=P48&countryList=DET&toFromCountry=CDN&reportType=TB&customYears=2024&periodString=&timePeriod=Custom+Years&currency=CDN&lang=&productType=HS6&hSelectedCodes=270710'"
      ]
     },
     "execution_count": 28,
     "metadata": {},
     "output_type": "execute_result"
    }
   ],
   "source": [
    "params = {\n",
    "    'grouped': 'INDIVIDUAL',\n",
    "    'searchType': 'BL',\n",
    "    'areaCodes': '',\n",
    "    'naArea': 'P48',\n",
    "    'countryList': 'DET',\n",
    "    'toFromCountry': 'CDN',\n",
    "    'reportType': 'TB',\n",
    "    'customYears': '2024',\n",
    "    'periodString': '',\n",
    "    'timePeriod': 'Custom+Years',\n",
    "    'currency': 'CDN',\n",
    "    'lang': '',\n",
    "    'productType': 'HS6',\n",
    "    'hSelectedCodes': '270710'\n",
    "}\n",
    "p = '&'.join([k+'='+v for k,v in params.items()])\n",
    "'https://ised-isde.canada.ca/app/ixb/tdo/report.csv' + '?' + p"
   ]
  }
 ],
 "metadata": {
  "kernelspec": {
   "display_name": "base",
   "language": "python",
   "name": "python3"
  },
  "language_info": {
   "codemirror_mode": {
    "name": "ipython",
    "version": 3
   },
   "file_extension": ".py",
   "mimetype": "text/x-python",
   "name": "python",
   "nbconvert_exporter": "python",
   "pygments_lexer": "ipython3",
   "version": "3.12.7"
  }
 },
 "nbformat": 4,
 "nbformat_minor": 2
}
