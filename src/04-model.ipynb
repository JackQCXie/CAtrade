{
 "cells": [
  {
   "cell_type": "markdown",
   "metadata": {},
   "source": [
    "# Computable general equilibrium\n",
    "\n",
    "* Replicate simple endowment economy model from https://macroeconomics.github.io/IntroCGE.html\n",
    "* Replicate and modify CGE model from [Albrecht and Tombe (2016)](https://doi.org/10.1111/caje.12196)"
   ]
  },
  {
   "cell_type": "code",
   "execution_count": 166,
   "metadata": {},
   "outputs": [],
   "source": [
    "import numpy as np\n",
    "from scipy.optimize import fsolve, root"
   ]
  },
  {
   "cell_type": "markdown",
   "metadata": {},
   "source": [
    "### A CGE example of an endowment economy\n",
    "\n",
    "https://macroeconomics.github.io/IntroCGE.html\n",
    "\n",
    "There are $N$ individuals endowed with different amounnts of $M$ goods in the economy. \n",
    "\n",
    "Let $ p = \\begin{pmatrix}p_1 & p_2 & \\cdots & p_M \\end{pmatrix} $ be a vector of prices for $M$ products. Each individual $ i $ has an endowment $ w_i = \\begin{pmatrix} w_{i1} & w_{i2} & \\cdots & w_{iM} \\end{pmatrix} $ of each of the $M$ goods, so their total endowment is given by $ y_i = p \\cdot w_i = \\sum_{j=1}^M p_i w_{ij}$. \n",
    "\n",
    "Individual $ i $ chooses a consumption vector $ x_i = \\begin{pmatrix} x_{i1} & x_{i2} & \\cdots & x_{iM} \\end{pmatrix} $ to maximize their Cobb-Douglas utility\n",
    "$$ \\begin{equation*}\n",
    "    U(x_i) = \\prod_{j=1}^M x_{ij}^{\\alpha_{ij}} = x_{i1}^{\\alpha_{i1}} \\cdots  x_{iM}^{\\alpha_{iM}}\n",
    "\\end{equation*} $$\n",
    "subject to the budget constraint\n",
    "$$ \\begin{equation*}\n",
    "    y_i = w_i \\cdot p \\;\\left(= \\sum_{j=1}^M p_j w_{ij}\\right).\n",
    "\\end{equation*} $$\n",
    "\n",
    "The optimal demand function turns out to be\n",
    "$$ \\begin{equation*}\n",
    "    x_{ij}^* = \\frac{1}{p_j} \\frac{\\alpha_{ij}}{\\sum_{h=1}^M{\\alpha_{ih}}} y_i.\n",
    "\\end{equation*} $$\n",
    "\n",
    "In equilibrium, markets for all goods clear, so that\n",
    "$$ \\begin{equation*}\n",
    "    \\sum_{i=1}^N x_{ij} = \\sum_{i=1}^N w_{ij}, \\quad \\forall j = 1, ..., M.\n",
    "\\end{equation*} $$"
   ]
  },
  {
   "cell_type": "code",
   "execution_count": 220,
   "metadata": {},
   "outputs": [],
   "source": [
    "# N = 2\n",
    "# M = 4\n",
    "\n",
    "# w = np.random.randint(0, 10, (N, M))\n",
    "# alpha = np.random.rand(N, M)\n",
    "\n",
    "# # guess\n",
    "# p = np.random.rand(1, M)\n",
    "\n",
    "# def demand_function(p, w, alpha):\n",
    "#     '''Optimal demand'''\n",
    "#     y = w.dot(p.T).reshape((N, 1))\n",
    "#     return (1 /p) * ((alpha/alpha.sum(axis=1, keepdims=True)) * y)\n",
    "\n",
    "# def clearing(p, w, alpha):\n",
    "#     '''Market clearing condition'''\n",
    "\n",
    "#     p = p.reshape((np.max(p.shape), 1))\n",
    "#     p = np.vstack([[1], p])\n",
    "#     z = demand_function(p, w, alpha).sum(axis=1, keepdims=True) - w.sum(axis=1, keepdims=True)\n",
    "#     return z[1:]"
   ]
  },
  {
   "cell_type": "code",
   "execution_count": 261,
   "metadata": {},
   "outputs": [],
   "source": [
    "def CobbDouglasDemand(p, w, alpha):\n",
    "    '''\n",
    "    Compute the demand vector of an individual with Cobb-Douglas Utility with parameter vector alpha,\n",
    "    given her initial endowments and prices for all goods\n",
    "    '''\n",
    "    # Total income\n",
    "    y = w.dot(p)\n",
    "    ly = len(y)\n",
    "    x = ((alpha / alpha.sum(axis=1, keepdims=True) * y).T / p).T\n",
    "    return x\n",
    "\n",
    "def ExcessDemand(p, w, alpha):\n",
    "    '''\n",
    "    Compute excess demand function for each good\n",
    "    '''\n",
    "    z = CobbDouglasDemand(p, w, alpha).sum(axis=0) - w.sum(axis=0)\n",
    "    return z\n",
    "\n",
    "\n",
    "def ExcessDemand2(p, w, alpha, normalize=False):\n",
    "    '''\n",
    "    Compute excess demand function for all but the last good\n",
    "    Price of good 1 = 1\n",
    "    Prices are normalized to length of vector is equal to 1\n",
    "    '''\n",
    "    # Ensure p has the right shape\n",
    "    p = p.reshape((np.max(p.shape), 1))\n",
    "    p = np.vstack([[1], p])\n",
    "    if normalize:\n",
    "        p = (p / np.linalg.norm(p))\n",
    "    z = CobbDouglasDemand(p, w, alpha).sum(axis=0) - w.sum(axis=0)\n",
    "    return z[1:]\n"
   ]
  },
  {
   "cell_type": "code",
   "execution_count": 275,
   "metadata": {},
   "outputs": [
    {
     "name": "stdout",
     "output_type": "stream",
     "text": [
      "Error: [-1.  -0.  -0.  -0.  -1.  -0.  -0.   0.  -0.  -0.   0.3 -0.  -0.  -0.\n",
      " -0.  -0.  -0.  -0.4 -0.  -0.  -0.  -0.  -0.  -0.  -0.  -0.   0.  -0.\n",
      " -0.  -0. ]\n"
     ]
    },
    {
     "data": {
      "text/plain": [
       "array([[ 1.00000000e+00],\n",
       "       [ 6.50938123e-04],\n",
       "       [ 6.20931192e-04],\n",
       "       [ 7.12352668e-04],\n",
       "       [-9.08246737e-01],\n",
       "       [ 6.62768296e-04],\n",
       "       [ 5.99722537e-04],\n",
       "       [ 5.79319910e-04],\n",
       "       [ 7.59813155e-04],\n",
       "       [ 6.27787327e-04],\n",
       "       [ 4.93932914e-04],\n",
       "       [ 6.66159569e-04],\n",
       "       [ 6.14858875e-04],\n",
       "       [ 6.20513472e-04],\n",
       "       [ 5.48941608e-04],\n",
       "       [ 6.34117999e-04],\n",
       "       [ 6.49856415e-04],\n",
       "       [ 1.24772247e-03],\n",
       "       [ 6.50961025e-04],\n",
       "       [ 5.62472625e-04],\n",
       "       [ 4.37509241e-04],\n",
       "       [ 6.05077414e-04],\n",
       "       [ 8.05008618e-04],\n",
       "       [ 6.19302044e-04],\n",
       "       [ 6.87717339e-04],\n",
       "       [ 5.58355124e-04],\n",
       "       [ 4.56872704e-04],\n",
       "       [ 5.08455321e-04],\n",
       "       [ 5.95236879e-04],\n",
       "       [ 6.20648733e-04]])"
      ]
     },
     "execution_count": 275,
     "metadata": {},
     "output_type": "execute_result"
    }
   ],
   "source": [
    "# Generate a random economy\n",
    "np.random.seed(123)\n",
    "N = 20 # Individuals\n",
    "M = 30 # Goods\n",
    "\n",
    "alpha = np.random.uniform(0, 1/M, size=(N, M))\n",
    "w = np.max(np.random.uniform(0, 1/M, size=(N, M)), 0)\n",
    "p = np.max(np.random.uniform(0, 1/M, size=(1, M)), 0).T\n",
    "\n",
    "\n",
    "sol = root(ExcessDemand2, p[1:], args=(w, alpha))\n",
    "pstar = sol.x\n",
    "pstar = pstar.reshape((np.max(pstar.shape), 1))\n",
    "pstar = np.vstack([[1], pstar])\n",
    "\n",
    "# error rounded to six decimals\n",
    "excess_demand = ExcessDemand(pstar, w, alpha).round(1)\n",
    "print('Error:', excess_demand)\n",
    "pstar\n"
   ]
  },
  {
   "cell_type": "code",
   "execution_count": null,
   "metadata": {},
   "outputs": [],
   "source": [
    "\n",
    "# def production(L, alpha):\n",
    "#     return L**alpha\n",
    "\n",
    "# def labor_demand(alpha, w):\n",
    "#     return (w / alpha)**(1 / (alpha-1))\n",
    "\n",
    "# def profit(L, alpha, w, p):\n",
    "#     return p * production(L, alpha) - w * L\n",
    "\n",
    "# def labor_supply(C, w, p):\n",
    "#     return C * p / ws\n",
    "\n",
    "# def budget_constraint(C, L, p, w, alpha):\n",
    "#     return profit(labor_demand(alpha, w), alpha, w, p) + w*L - p*C\n",
    "\n",
    "# def equilibrium(vars, params):\n",
    "#     C, L, p, w = vars\n",
    "#     alpha = params\n",
    "#     eqs = [\n",
    "#         labor_demand(alpha, w) - labor_supply(C, w, p),\n",
    "#         budget_constraint(C, L, p, w, alpha),\n",
    "#     ]\n",
    "\n",
    "#     return eqs\n",
    "\n"
   ]
  }
 ],
 "metadata": {
  "kernelspec": {
   "display_name": "base",
   "language": "python",
   "name": "python3"
  },
  "language_info": {
   "codemirror_mode": {
    "name": "ipython",
    "version": 3
   },
   "file_extension": ".py",
   "mimetype": "text/x-python",
   "name": "python",
   "nbconvert_exporter": "python",
   "pygments_lexer": "ipython3",
   "version": "3.12.7"
  }
 },
 "nbformat": 4,
 "nbformat_minor": 2
}
