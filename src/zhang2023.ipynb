{
 "cells": [
  {
   "cell_type": "markdown",
   "metadata": {},
   "source": [
    "# Replicating Zhang (2023)\n",
    "Zhang, X. G. (2023). An iterative method for solving CGE models Conference paper."
   ]
  },
  {
   "cell_type": "code",
   "execution_count": 33,
   "metadata": {},
   "outputs": [],
   "source": [
    "import os\n",
    "\n",
    "import pandas as pd\n",
    "import numpy"
   ]
  },
  {
   "cell_type": "code",
   "execution_count": 35,
   "metadata": {},
   "outputs": [],
   "source": [
    "misc_dir = os.path.abspath('../misc')"
   ]
  },
  {
   "cell_type": "code",
   "execution_count": 62,
   "metadata": {},
   "outputs": [],
   "source": [
    "src = os.path.join(misc_dir, 'zhang2023.xlsx')\n",
    "df = pd.read_excel(src, sheet_name=0, index_col=(0,1), header=(1,2))\n",
    "io = df.iloc[:-1, :-1] # remove final column\n",
    "\n",
    "df = pd.read_excel(src, sheet_name=1, index_col=(0,1,2), header=(1,2,3))\n",
    "sam = df.iloc[:-1, :-1] # remove final column"
   ]
  },
  {
   "cell_type": "code",
   "execution_count": null,
   "metadata": {},
   "outputs": [],
   "source": [
    "# Table 2\n",
    "\n",
    "# (1) CES elasticity of substitution between factors in industry i\n",
    "alpha_fac_i = 0.99\n",
    "\n",
    "# (2) CES elasticity of substitution between domestic and imported commodity\n",
    "sigma_dom_c = 2.0\n",
    "\n",
    "# (3) Constant elasticity of demand for export commodity\n",
    "sigma_export_c = 5.0 "
   ]
  }
 ],
 "metadata": {
  "kernelspec": {
   "display_name": "base",
   "language": "python",
   "name": "python3"
  },
  "language_info": {
   "codemirror_mode": {
    "name": "ipython",
    "version": 3
   },
   "file_extension": ".py",
   "mimetype": "text/x-python",
   "name": "python",
   "nbconvert_exporter": "python",
   "pygments_lexer": "ipython3",
   "version": "3.12.7"
  }
 },
 "nbformat": 4,
 "nbformat_minor": 2
}
