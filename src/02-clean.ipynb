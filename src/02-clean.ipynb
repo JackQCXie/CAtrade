{
 "cells": [
  {
   "cell_type": "markdown",
   "metadata": {},
   "source": [
    "# Clean data\n",
    "\n",
    "This notebook cleans the raw data downloaded from [ISED Canada](https://ised-isde.canada.ca/site/trade-data-online/en) and the [HS2](https://en.wikipedia.org/wiki/Harmonized_System) product categorization codes."
   ]
  },
  {
   "cell_type": "code",
   "execution_count": 6,
   "metadata": {},
   "outputs": [],
   "source": [
    "from lxml import html\n",
    "import os\n",
    "import pandas as pd"
   ]
  },
  {
   "cell_type": "code",
   "execution_count": 7,
   "metadata": {},
   "outputs": [],
   "source": [
    "data_dir = os.path.abspath('../data')\n",
    "misc_dir = os.path.abspath('../misc')"
   ]
  },
  {
   "cell_type": "code",
   "execution_count": 8,
   "metadata": {},
   "outputs": [],
   "source": [
    "src = os.path.join(misc_dir, 'hs.txt')\n",
    "\n",
    "with open(src, 'r') as f:\n",
    "    html_text = f.read()\n",
    "    \n",
    "doc = html.fromstring(html_text)\n",
    "texts = doc.xpath('option/text()')\n",
    "\n",
    "hs = {}\n",
    "for text in texts:\n",
    "\n",
    "    if text[0].isnumeric():\n",
    "        hs[top].append(text)\n",
    "    else:\n",
    "        top = text\n",
    "        hs[text] = []\n",
    "\n",
    "# clean out empties\n",
    "hs = {k : v for k,v in hs.items() if v}"
   ]
  },
  {
   "cell_type": "code",
   "execution_count": 9,
   "metadata": {},
   "outputs": [
    {
     "name": "stdout",
     "output_type": "stream",
     "text": [
      "Saved: /home/qcx201/Projects/CAtrade/data/HS2_codes.csv\n"
     ]
    }
   ],
   "source": [
    "res = []\n",
    "for sec, codes in hs.items():\n",
    "\n",
    "    for code in codes:\n",
    "        \n",
    "        res.append({'sec' : sec, 'code' : code})\n",
    "\n",
    "codes = pd.DataFrame(res)\n",
    "\n",
    "dst = os.path.join(data_dir, 'HS2_codes.csv')\n",
    "codes.to_csv(dst, index=False)\n",
    "print('Saved:', dst)"
   ]
  },
  {
   "cell_type": "code",
   "execution_count": null,
   "metadata": {},
   "outputs": [
    {
     "ename": "FileNotFoundError",
     "evalue": "[Errno 2] No such file or directory: '/home/qcx201/Projects/CAtrade/src/raw'",
     "output_type": "error",
     "traceback": [
      "\u001b[0;31m---------------------------------------------------------------------------\u001b[0m",
      "\u001b[0;31mFileNotFoundError\u001b[0m                         Traceback (most recent call last)",
      "Cell \u001b[0;32mIn[5], line 2\u001b[0m\n\u001b[1;32m      1\u001b[0m raw_dir \u001b[38;5;241m=\u001b[39m os\u001b[38;5;241m.\u001b[39mpath\u001b[38;5;241m.\u001b[39mabspath(\u001b[38;5;124m'\u001b[39m\u001b[38;5;124mraw\u001b[39m\u001b[38;5;124m'\u001b[39m)\n\u001b[0;32m----> 2\u001b[0m files \u001b[38;5;241m=\u001b[39m \u001b[38;5;28msorted\u001b[39m(os\u001b[38;5;241m.\u001b[39mlistdir(raw_dir))\n\u001b[1;32m      4\u001b[0m \u001b[38;5;66;03m# breakdown by province vs trade partner\u001b[39;00m\n\u001b[1;32m      5\u001b[0m modes \u001b[38;5;241m=\u001b[39m {\n\u001b[1;32m      6\u001b[0m     \u001b[38;5;124m'\u001b[39m\u001b[38;5;124mpart\u001b[39m\u001b[38;5;124m'\u001b[39m : {\u001b[38;5;124m'\u001b[39m\u001b[38;5;124mnaArea\u001b[39m\u001b[38;5;124m'\u001b[39m: \u001b[38;5;124m'\u001b[39m\u001b[38;5;124m9999\u001b[39m\u001b[38;5;124m'\u001b[39m, \u001b[38;5;124m'\u001b[39m\u001b[38;5;124mcountryList\u001b[39m\u001b[38;5;124m'\u001b[39m: \u001b[38;5;124m'\u001b[39m\u001b[38;5;124mDET\u001b[39m\u001b[38;5;124m'\u001b[39m},\n\u001b[1;32m      7\u001b[0m     \u001b[38;5;124m'\u001b[39m\u001b[38;5;124mprov\u001b[39m\u001b[38;5;124m'\u001b[39m : {\u001b[38;5;124m'\u001b[39m\u001b[38;5;124mnaArea\u001b[39m\u001b[38;5;124m'\u001b[39m: \u001b[38;5;124m'\u001b[39m\u001b[38;5;124m9998\u001b[39m\u001b[38;5;124m'\u001b[39m, \u001b[38;5;124m'\u001b[39m\u001b[38;5;124mcountryList\u001b[39m\u001b[38;5;124m'\u001b[39m: \u001b[38;5;124m'\u001b[39m\u001b[38;5;124mALL\u001b[39m\u001b[38;5;124m'\u001b[39m},\n\u001b[1;32m      8\u001b[0m }\n",
      "\u001b[0;31mFileNotFoundError\u001b[0m: [Errno 2] No such file or directory: '/home/qcx201/Projects/CAtrade/src/raw'"
     ]
    }
   ],
   "source": [
    "raw_dir = os.path.abspath('../raw')\n",
    "files = sorted(os.listdir(raw_dir))\n",
    "\n",
    "# breakdown by province vs trade partner\n",
    "modes = {\n",
    "    'part' : {'naArea': '9999', 'countryList': 'DET'},\n",
    "    'prov' : {'naArea': '9998', 'countryList': 'ALL'},\n",
    "}\n",
    "\n",
    "# years\n",
    "years = [str(x) for x in range(2000, 2025)]\n",
    "\n",
    "# product codes (2-digit zero-padded)\n",
    "codes = [str(x).zfill(2) for x in range(1, 100)]\n",
    "codes = [x for x in codes if x not in ('77', '98', '99')] # remove non-valid codes\n",
    "\n",
    "dfs = {}\n",
    "\n",
    "for mode in modes:\n",
    "    for year in years:\n",
    "        for code in codes:\n",
    "            \n",
    "            file = f'{mode}_{year}_{code}.csv'\n",
    "\n",
    "            src = os.path.join(raw_dir, file)\n",
    "            print(src)\n",
    "            \n",
    "            tmp = pd.read_csv(src, header=6)\n",
    "            \n",
    "            # fill missing countries\n",
    "            tmp.iloc[:, 0:2] = tmp.iloc[:, 0:2].ffill()\n",
    "            \n",
    "            # set and rename index\n",
    "            tmp = tmp.set_index(['Unnamed: 0', 'Unnamed: 1'])\n",
    "            tmp.index.names = ['place', 'account']\n",
    "            \n",
    "            # rename columns\n",
    "            tmp.columns = pd.MultiIndex.from_tuples([(year, code)])\n",
    "            \n",
    "            # remove rows with empty data\n",
    "            tmp = tmp.dropna()\n",
    "            \n",
    "            if mode not in dfs:\n",
    "                dfs[mode] = tmp.copy()\n",
    "                print('> added')\n",
    "            else:\n",
    "                dfs[mode] = pd.merge(dfs[mode], tmp, how='outer', left_index=True, right_index=True)\n",
    "                print('> merged')"
   ]
  },
  {
   "cell_type": "markdown",
   "metadata": {},
   "source": [
    "Some strange duplications occur in the source data, e.g. for Albania, year 2022, code 84. [[source data link]](https://ised-isde.canada.ca/app/ixb/tdo/runRpt.html?cssIncludes=%2Fcss%2Fcommon.css&cssIncludes=%2Fcss%2Fadd_WET_4-0_Canada_Apps.css&jsIncludes=js%2Futils.js&jsIncludes=js%2FcodeValidation.js&jsIncludes=js%2FdropdownFiltering.js&jsIncludes=js%2FcriteriaFormCodeSearch.js&jsIncludes=js%2FcriteriaFormCountryRegionState.js&jsIncludes=js%2FchangeCriteria.js&jsIncludes=js%2FselectedCodeDescriptions.js&jsIncludes=js%2Fsiteimprove.js&jsIncludes=js%2FgoogleTagManager.js&jsIncludes=js%2FsurveyPopup.js&grouped=INDIVIDUAL&searchType=BL&areaCodes=&naArea=9999&countryList=DET&toFromCountry=CDN&reportType=TB&customYears=2022&periodString=&timePeriod=%7CCustom+Years&currency=CDN&lang=&productType=HS6&hSelectedCodes=%7C84)\n",
    "\n",
    "See entries in file: /home/qcx201/Projects/CAtrade/raw/part_2022_84.csv\n",
    "\n",
    "```csv\n",
    "\"Albania\",\"Total Exports\",\"2077773\"\n",
    "\"\",\"Total Imports\",\"957064\"\n",
    "\"\",\"Trade Balance\",\"1120709\"\n",
    "\"\",\"Total Exports\",\"1137478\"\n",
    "\"\",\"Total Imports\",\"22765\"\n",
    "\"\",\"Trade Balance\",\"1114713\"\n",
    "```\n",
    "\n",
    "If you search specifically for Albania code 84, you get the first set of entries. [[source data link]](https://ised-isde.canada.ca/app/ixb/tdo/runRpt.html?cssIncludes=%2Fcss%2Fcommon.css&cssIncludes=%2Fcss%2Fadd_WET_4-0_Canada_Apps.css&jsIncludes=js%2Futils.js&jsIncludes=js%2FcodeValidation.js&jsIncludes=js%2FdropdownFiltering.js&jsIncludes=js%2FcriteriaFormCodeSearch.js&jsIncludes=js%2FcriteriaFormCountryRegionState.js&jsIncludes=js%2FchangeCriteria.js&jsIncludes=js%2FselectedCodeDescriptions.js&jsIncludes=js%2Fsiteimprove.js&jsIncludes=js%2FgoogleTagManager.js&jsIncludes=js%2FsurveyPopup.js&grouped=INDIVIDUAL&searchType=BL&areaCodes=242&naArea=9999&countryList=specific&toFromCountry=CDN&reportType=TB&customYears=2022&periodString=&timePeriod=%7CCustom+Years&currency=CDN&lang=&productType=HS6&hSelectedCodes=%7C84)\n",
    "\n",
    "So I just keep first entries for now and drop duplicates."
   ]
  },
  {
   "cell_type": "code",
   "execution_count": null,
   "metadata": {},
   "outputs": [],
   "source": [
    "for key in dfs:\n",
    "\n",
    "    df = dfs[key]\n",
    "\n",
    "    # keep first set of trade balance entries if duplicated\n",
    "    # see markdown notes above\n",
    "    isdup = df.index.duplicated(keep='first')\n",
    "    df = df[~isdup]\n",
    "\n",
    "    df = df.T\n",
    "\n",
    "    # stack data (wide format to long)\n",
    "    cols = [(acct.split('.')[0], cou) for cou, acct in df]\n",
    "    df.columns = pd.MultiIndex.from_tuples(cols)\n",
    "    df = df[sorted(df.columns)]\n",
    "\n",
    "    df = df.stack(level=1, future_stack=True)\n",
    "    df = df.dropna(how='all', axis=0)\n",
    "\n",
    "    # rename index and columns\n",
    "    df.index.names = ('year', 'hs2', 'cou')\n",
    "    cols = df.columns\n",
    "    cols = cols.str.lower()\n",
    "    cols = cols.str.replace(' ', '')\n",
    "    cols = cols.str.replace('total', '')\n",
    "    df.columns = cols\n",
    "\n",
    "    dst = os.path.join(data_dir, f'CA-{key}.csv')\n",
    "    df.to_csv(dst)\n",
    "    print('Saved:', dst)\n"
   ]
  },
  {
   "cell_type": "code",
   "execution_count": null,
   "metadata": {},
   "outputs": [],
   "source": []
  }
 ],
 "metadata": {
  "kernelspec": {
   "display_name": "base",
   "language": "python",
   "name": "python3"
  },
  "language_info": {
   "codemirror_mode": {
    "name": "ipython",
    "version": 3
   },
   "file_extension": ".py",
   "mimetype": "text/x-python",
   "name": "python",
   "nbconvert_exporter": "python",
   "pygments_lexer": "ipython3",
   "version": "3.12.7"
  }
 },
 "nbformat": 4,
 "nbformat_minor": 2
}
